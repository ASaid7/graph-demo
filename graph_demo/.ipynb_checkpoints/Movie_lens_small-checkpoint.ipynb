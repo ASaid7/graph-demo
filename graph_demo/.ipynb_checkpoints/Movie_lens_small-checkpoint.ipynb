{
 "cells": [
  {
   "cell_type": "markdown",
   "id": "aeaa2bb6-020e-4c12-a4ea-88b0fc548396",
   "metadata": {},
   "source": [
    "The task here is to make a movie recommendation with a graph by treating the movies as nodes, and creating edges between movies that have similar ratings by the users."
   ]
  },
  {
   "cell_type": "code",
   "execution_count": 1,
   "id": "656cdc0e-14ba-4967-a81e-a29d92ddd380",
   "metadata": {},
   "outputs": [],
   "source": [
    "import networkx as nx\n",
    "import pandas as pd\n",
    "from node2vec import Node2Vec"
   ]
  },
  {
   "cell_type": "code",
   "execution_count": 2,
   "id": "d89554e0-1a53-42e9-a2d6-d1e8a58a04fb",
   "metadata": {},
   "outputs": [
    {
     "data": {
      "text/html": [
       "<div>\n",
       "<style scoped>\n",
       "    .dataframe tbody tr th:only-of-type {\n",
       "        vertical-align: middle;\n",
       "    }\n",
       "\n",
       "    .dataframe tbody tr th {\n",
       "        vertical-align: top;\n",
       "    }\n",
       "\n",
       "    .dataframe thead th {\n",
       "        text-align: right;\n",
       "    }\n",
       "</style>\n",
       "<table border=\"1\" class=\"dataframe\">\n",
       "  <thead>\n",
       "    <tr style=\"text-align: right;\">\n",
       "      <th></th>\n",
       "      <th>Unnamed: 0</th>\n",
       "      <th>movieId</th>\n",
       "      <th>title</th>\n",
       "      <th>genres</th>\n",
       "    </tr>\n",
       "  </thead>\n",
       "  <tbody>\n",
       "    <tr>\n",
       "      <th>0</th>\n",
       "      <td>0</td>\n",
       "      <td>movie_1</td>\n",
       "      <td>Toy Story (1995)</td>\n",
       "      <td>Adventure|Animation|Children|Comedy|Fantasy</td>\n",
       "    </tr>\n",
       "    <tr>\n",
       "      <th>1</th>\n",
       "      <td>1</td>\n",
       "      <td>movie_2</td>\n",
       "      <td>Jumanji (1995)</td>\n",
       "      <td>Adventure|Children|Fantasy</td>\n",
       "    </tr>\n",
       "    <tr>\n",
       "      <th>2</th>\n",
       "      <td>2</td>\n",
       "      <td>movie_3</td>\n",
       "      <td>Grumpier Old Men (1995)</td>\n",
       "      <td>Comedy|Romance</td>\n",
       "    </tr>\n",
       "    <tr>\n",
       "      <th>3</th>\n",
       "      <td>3</td>\n",
       "      <td>movie_4</td>\n",
       "      <td>Waiting to Exhale (1995)</td>\n",
       "      <td>Comedy|Drama|Romance</td>\n",
       "    </tr>\n",
       "    <tr>\n",
       "      <th>4</th>\n",
       "      <td>4</td>\n",
       "      <td>movie_5</td>\n",
       "      <td>Father of the Bride Part II (1995)</td>\n",
       "      <td>Comedy</td>\n",
       "    </tr>\n",
       "  </tbody>\n",
       "</table>\n",
       "</div>"
      ],
      "text/plain": [
       "   Unnamed: 0  movieId                               title  \\\n",
       "0           0  movie_1                    Toy Story (1995)   \n",
       "1           1  movie_2                      Jumanji (1995)   \n",
       "2           2  movie_3             Grumpier Old Men (1995)   \n",
       "3           3  movie_4            Waiting to Exhale (1995)   \n",
       "4           4  movie_5  Father of the Bride Part II (1995)   \n",
       "\n",
       "                                        genres  \n",
       "0  Adventure|Animation|Children|Comedy|Fantasy  \n",
       "1                   Adventure|Children|Fantasy  \n",
       "2                               Comedy|Romance  \n",
       "3                         Comedy|Drama|Romance  \n",
       "4                                       Comedy  "
      ]
     },
     "execution_count": 2,
     "metadata": {},
     "output_type": "execute_result"
    }
   ],
   "source": [
    "movie_nodes = pd.read_csv('movies.csv')\n",
    "g = nx.read_edgelist('movies_edgelist.csv',delimiter=',')\n",
    "movie_nodes.head()"
   ]
  },
  {
   "cell_type": "markdown",
   "id": "6a1aad01-3209-481f-8fe2-25cdef8e2847",
   "metadata": {},
   "source": [
    "Remap nodes to make similarity search less conversion steps"
   ]
  },
  {
   "cell_type": "code",
   "execution_count": 3,
   "id": "20cba196-70b7-475f-a9d2-a12e2f12a5bb",
   "metadata": {},
   "outputs": [],
   "source": [
    "mapping = {movieId:title for movieId, title in\n",
    "           zip(movie_nodes.movieId, movie_nodes.title)}\n",
    "g = nx.relabel_nodes(g, mapping)"
   ]
  },
  {
   "cell_type": "code",
   "execution_count": 4,
   "id": "dcf50c13-3f9c-45ee-9644-a82b46b4fb3a",
   "metadata": {},
   "outputs": [
    {
     "name": "stdout",
     "output_type": "stream",
     "text": [
      "Graph with 1405 nodes and 40043 edges\n"
     ]
    }
   ],
   "source": [
    "print(nx.info(g))"
   ]
  },
  {
   "cell_type": "code",
   "execution_count": 5,
   "id": "a6a17663-8b9e-4ca2-b35b-170ad08098bc",
   "metadata": {},
   "outputs": [
    {
     "data": {
      "application/vnd.jupyter.widget-view+json": {
       "model_id": "3535861d9af4405ca57afe5865cde6d2",
       "version_major": 2,
       "version_minor": 0
      },
      "text/plain": [
       "Computing transition probabilities:   0%|          | 0/1405 [00:00<?, ?it/s]"
      ]
     },
     "metadata": {},
     "output_type": "display_data"
    }
   ],
   "source": [
    "nv = Node2Vec(g, dimensions=256, walk_length=256, num_walks=10, workers=8, p=.1,q=1) \n",
    "model = nv.fit(window=5, min_count=0, sg=1)"
   ]
  },
  {
   "cell_type": "code",
   "execution_count": 6,
   "id": "1cb14cbb-db85-4377-b4f2-5d3795b47751",
   "metadata": {},
   "outputs": [
    {
     "data": {
      "text/plain": [
       "[('Big Lebowski, The (1998)', 0.6241620779037476),\n",
       " ('Fireworks (Hana-bi) (1997)', 0.5322566628456116),\n",
       " ('Road Trip (2000)', 0.5225794315338135),\n",
       " ('Wonder Boys (2000)', 0.5018271803855896),\n",
       " (\"Dude, Where's My Car? (2000)\", 0.49479034543037415),\n",
       " ('Laputa: Castle in the Sky (Tenkû no shiro Rapyuta) (1986)',\n",
       "  0.49173879623413086),\n",
       " ('Strange Brew (1983)', 0.4695519506931305),\n",
       " ('Your Highness (2011)', 0.4655013382434845),\n",
       " ('Napoleon Dynamite (2004)', 0.4430961310863495),\n",
       " ('Scary Movie 2 (2001)', 0.43457329273223877)]"
      ]
     },
     "execution_count": 6,
     "metadata": {},
     "output_type": "execute_result"
    }
   ],
   "source": [
    "model.wv.most_similar('Old School (2003)')"
   ]
  },
  {
   "cell_type": "code",
   "execution_count": 7,
   "id": "b517e90b-b87b-4c65-805c-06916d2cda66",
   "metadata": {},
   "outputs": [
    {
     "data": {
      "text/plain": [
       "[('Godfather: Part II, The (1974)', 0.4300858974456787),\n",
       " ('Paris Is Burning (1990)', 0.4131982624530792),\n",
       " ('Long Goodbye, The (1973)', 0.4105764925479889),\n",
       " (\"Babette's Feast (Babettes gæstebud) (1987)\", 0.4059564471244812),\n",
       " ('Chasing Liberty (2004)', 0.3908712565898895),\n",
       " ('Walk to Remember, A (2002)', 0.387372225522995),\n",
       " ('Magnificent Seven, The (1960)', 0.38694342970848083),\n",
       " ('Chinatown (1974)', 0.3842809796333313),\n",
       " ('Autumn Sonata (Höstsonaten) (1978)', 0.3685373365879059),\n",
       " ('Curious Case of Benjamin Button, The (2008)', 0.3593035042285919)]"
      ]
     },
     "execution_count": 7,
     "metadata": {},
     "output_type": "execute_result"
    }
   ],
   "source": [
    "model.wv.most_similar(\"Godfather, The (1972)\")"
   ]
  }
 ],
 "metadata": {
  "kernelspec": {
   "display_name": "Python 3 (ipykernel)",
   "language": "python",
   "name": "python3"
  },
  "language_info": {
   "codemirror_mode": {
    "name": "ipython",
    "version": 3
   },
   "file_extension": ".py",
   "mimetype": "text/x-python",
   "name": "python",
   "nbconvert_exporter": "python",
   "pygments_lexer": "ipython3",
   "version": "3.8.12"
  }
 },
 "nbformat": 4,
 "nbformat_minor": 5
}
